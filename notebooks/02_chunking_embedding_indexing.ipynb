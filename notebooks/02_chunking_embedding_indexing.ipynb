{
 "cells": [
  {
   "cell_type": "code",
   "execution_count": 1,
   "id": "b7f4bc00-8aa5-4781-9c42-a9d75e3203d2",
   "metadata": {},
   "outputs": [
    {
     "name": "stdout",
     "output_type": "stream",
     "text": [
      "0.3.26\n"
     ]
    }
   ],
   "source": [
    "import langchain\n",
    "print(langchain.__version__)\n"
   ]
  },
  {
   "cell_type": "code",
   "execution_count": 4,
   "id": "a2da5d39-8e0c-4cdc-96e2-8c8abd333974",
   "metadata": {},
   "outputs": [
    {
     "name": "stdout",
     "output_type": "stream",
     "text": [
      "  Date received      Product                                 Sub-product  \\\n",
      "0    2025-06-13  Credit card                           Store credit card   \n",
      "1    2025-06-12  Credit card  General-purpose credit card or charge card   \n",
      "2    2025-06-12  Credit card  General-purpose credit card or charge card   \n",
      "3    2025-06-09  Credit card  General-purpose credit card or charge card   \n",
      "4    2025-06-09  Credit card  General-purpose credit card or charge card   \n",
      "\n",
      "                                             Issue  \\\n",
      "0                            Getting a credit card   \n",
      "1               Other features, terms, or problems   \n",
      "2             Incorrect information on your report   \n",
      "3  Problem with a purchase shown on your statement   \n",
      "4                     Problem when making payments   \n",
      "\n",
      "                                           Sub-issue  \\\n",
      "0        Card opened without my consent or knowledge   \n",
      "1                                      Other problem   \n",
      "2                      Account information incorrect   \n",
      "3  Credit card company isn't resolving a dispute ...   \n",
      "4                     Problem during payment process   \n",
      "\n",
      "                        Consumer complaint narrative  \\\n",
      "0  A XXXX XXXX card was opened under my name by a...   \n",
      "1  Dear CFPB, I have a secured credit card with c...   \n",
      "2  I have a Citi rewards cards. The credit balanc...   \n",
      "3  b'I am writing to dispute the following charge...   \n",
      "4  Although the account had been deemed closed, I...   \n",
      "\n",
      "                             Company public response  \\\n",
      "0  Company has responded to the consumer and the ...   \n",
      "1  Company has responded to the consumer and the ...   \n",
      "2  Company has responded to the consumer and the ...   \n",
      "3  Company has responded to the consumer and the ...   \n",
      "4  Company believes it acted appropriately as aut...   \n",
      "\n",
      "                           Company State ZIP code            Tags  \\\n",
      "0                   CITIBANK, N.A.    TX    78230   Servicemember   \n",
      "1                   CITIBANK, N.A.    NY    11220             NaN   \n",
      "2                   CITIBANK, N.A.    IL    60067             NaN   \n",
      "3                   CITIBANK, N.A.    TX    78413  Older American   \n",
      "4  Atlanticus Services Corporation    NY    11212  Older American   \n",
      "\n",
      "  Consumer consent provided? Submitted via Date sent to company  \\\n",
      "0           Consent provided           Web           2025-06-13   \n",
      "1           Consent provided           Web           2025-06-13   \n",
      "2           Consent provided           Web           2025-06-12   \n",
      "3           Consent provided           Web           2025-06-09   \n",
      "4           Consent provided           Web           2025-06-09   \n",
      "\n",
      "      Company response to consumer Timely response? Consumer disputed?  \\\n",
      "0  Closed with non-monetary relief              Yes                NaN   \n",
      "1      Closed with monetary relief              Yes                NaN   \n",
      "2          Closed with explanation              Yes                NaN   \n",
      "3      Closed with monetary relief              Yes                NaN   \n",
      "4      Closed with monetary relief              Yes                NaN   \n",
      "\n",
      "   Complaint ID                                    clean_narrative  \n",
      "0      14069121  a xxxx xxxx card was opened under my name by a...  \n",
      "1      14047085  dear cfpb i have a secured credit card with ci...  \n",
      "2      14040217  i have a citi rewards cards the credit balance...  \n",
      "3      13968411  bi am writing to dispute the following charges...  \n",
      "4      13965746  although the account had been deemed closed i ...  \n"
     ]
    }
   ],
   "source": [
    "import pandas as pd\n",
    "\n",
    "df = pd.read_csv('../data/filtered_complaints.csv')\n",
    "print(df.head())\n"
   ]
  },
  {
   "cell_type": "code",
   "execution_count": 6,
   "id": "85864cbf-f7b9-431f-9e31-e34466f4531c",
   "metadata": {},
   "outputs": [
    {
     "name": "stdout",
     "output_type": "stream",
     "text": [
      "   complaint_id      product  \\\n",
      "0      14069121  Credit card   \n",
      "1      14069121  Credit card   \n",
      "2      14069121  Credit card   \n",
      "3      14047085  Credit card   \n",
      "4      14047085  Credit card   \n",
      "\n",
      "                                                text  \n",
      "0  A XXXX XXXX card was opened under my name by a...  \n",
      "1  out to XXXX XXXX to state that this activity w...  \n",
      "2  However, they have failed to remove this from ...  \n",
      "3  Dear CFPB, I have a secured credit card with c...  \n",
      "4  secured amount {$2500.00} for rhat credit card...  \n"
     ]
    }
   ],
   "source": [
    "from langchain.text_splitter import RecursiveCharacterTextSplitter\n",
    "\n",
    "# Example config\n",
    "chunk_size = 200  # Try 200-500 words\n",
    "chunk_overlap = 50  # Small overlap to keep context\n",
    "\n",
    "text_splitter = RecursiveCharacterTextSplitter(\n",
    "    chunk_size=chunk_size,\n",
    "    chunk_overlap=chunk_overlap\n",
    ")\n",
    "\n",
    "chunks = []\n",
    "\n",
    "for idx, row in df.iterrows():\n",
    "    doc = row['Consumer complaint narrative']\n",
    "    complaint_id = row['Complaint ID']\n",
    "    product = row['Product']\n",
    "\n",
    "    # Split text\n",
    "    splits = text_splitter.split_text(doc)\n",
    "\n",
    "    for chunk in splits:\n",
    "        chunks.append({\n",
    "            'complaint_id': complaint_id,\n",
    "            'product': product,\n",
    "            'text': chunk\n",
    "        })\n",
    "\n",
    "# Convert to DataFrame for easy handling\n",
    "chunks_df = pd.DataFrame(chunks)\n",
    "print(chunks_df.head())\n"
   ]
  },
  {
   "cell_type": "code",
   "execution_count": 7,
   "id": "a37a1796-a885-4a46-b22e-0c54f288af36",
   "metadata": {},
   "outputs": [
    {
     "name": "stderr",
     "output_type": "stream",
     "text": [
      "C:\\Users\\saron\\OneDrive\\Desktop\\kifya\\week6\\rag-complaint-chatbot\\venv\\Lib\\site-packages\\tqdm\\auto.py:21: TqdmWarning: IProgress not found. Please update jupyter and ipywidgets. See https://ipywidgets.readthedocs.io/en/stable/user_install.html\n",
      "  from .autonotebook import tqdm as notebook_tqdm\n",
      "Xet Storage is enabled for this repo, but the 'hf_xet' package is not installed. Falling back to regular HTTP download. For better performance, install the package with: `pip install huggingface_hub[hf_xet]` or `pip install hf_xet`\n"
     ]
    }
   ],
   "source": [
    "from sentence_transformers import SentenceTransformer\n",
    "\n",
    "# Popular small, fast, high-quality model:\n",
    "model = SentenceTransformer('all-MiniLM-L6-v2')\n",
    "\n",
    "# Why? It’s lightweight, fast, and strong for short texts.\n"
   ]
  },
  {
   "cell_type": "code",
   "execution_count": 8,
   "id": "ff736685-f018-4810-aee4-e7147aa9d620",
   "metadata": {},
   "outputs": [
    {
     "name": "stderr",
     "output_type": "stream",
     "text": [
      "Batches: 100%|███████████████████████████████████████████████████████████████████████████████████████████████████| 20185/20185 [1:21:35<00:00,  4.12it/s]\n"
     ]
    }
   ],
   "source": [
    "texts = chunks_df['text'].tolist()\n",
    "embeddings = model.encode(texts, show_progress_bar=True)\n",
    "\n",
    "# Add to DataFrame\n",
    "chunks_df['embedding'] = embeddings.tolist()\n"
   ]
  },
  {
   "cell_type": "code",
   "execution_count": 9,
   "id": "6e0707bc-201e-4985-a592-b02dcdc6b283",
   "metadata": {},
   "outputs": [],
   "source": [
    "import faiss\n",
    "import numpy as np\n",
    "import os\n",
    "\n",
    "# Convert to numpy matrix\n",
    "embedding_matrix = np.vstack(chunks_df['embedding'].values)\n",
    "\n",
    "# Build FAISS index\n",
    "dimension = embedding_matrix.shape[1]\n",
    "index = faiss.IndexFlatL2(dimension)\n",
    "index.add(embedding_matrix)\n",
    "\n",
    "# Save FAISS index + metadata\n",
    "faiss.write_index(index, '../vector_store/complaints_index.faiss')\n",
    "\n",
    "# Save metadata for lookup\n",
    "chunks_df[['complaint_id', 'product', 'text']].to_csv('../vector_store/chunks_metadata.csv', index=False)\n"
   ]
  }
 ],
 "metadata": {
  "kernelspec": {
   "display_name": "Python (rag-env)",
   "language": "python",
   "name": "rag-env"
  },
  "language_info": {
   "codemirror_mode": {
    "name": "ipython",
    "version": 3
   },
   "file_extension": ".py",
   "mimetype": "text/x-python",
   "name": "python",
   "nbconvert_exporter": "python",
   "pygments_lexer": "ipython3",
   "version": "3.11.4"
  }
 },
 "nbformat": 4,
 "nbformat_minor": 5
}
